{
 "cells": [
  {
   "cell_type": "code",
   "execution_count": 33,
   "metadata": {
    "collapsed": true
   },
   "outputs": [],
   "source": [
    "import tensorflow as tf\n",
    "from tensorflow.python.ops import array_ops"
   ]
  },
  {
   "cell_type": "code",
   "execution_count": 34,
   "metadata": {
    "collapsed": true
   },
   "outputs": [],
   "source": [
    "#實作stem區塊程式碼_tsairain_20171029\n",
    "def weight_variable(shape):\n",
    "    initial = tf.truncated_normal(shape, stddev=0.1)\n",
    "    return tf.Variable(initial)\n",
    "\n",
    "def bias_variable(shape):\n",
    "    initial = tf.constant(0.1, shape=shape)\n",
    "    return tf.Variable(initial)\n",
    "\n",
    "def conv2d(x, W, s, padding):\n",
    "    return tf.nn.conv2d(input=x, filter=W, strides=[1, s, s, 1], padding=padding)\n",
    "\n",
    "def max_pool(x, k, s, padding):\n",
    "    return tf.nn.max_pool(x, ksize= [1, k, k, 1], strides=[1, s, s, 1], padding=padding)\n",
    "\n",
    "xs = tf.placeholder(tf.float32, [None, 299, 299, 3])\n",
    "ys = tf.placeholder(tf.float32, [None, 1000])\n",
    "#---------------------------------------------------------------------------\n",
    "#stem\n",
    "w1 = weight_variable([3,3,3,32])\n",
    "b1 = bias_variable([32])\n",
    "c1 = conv2d(xs, w1, 2, 'VALID') + b1  #input\n",
    "    \n",
    "w2 = weight_variable([3,3,32,32])\n",
    "b2 = bias_variable([32])\n",
    "c2 = conv2d(c1, w2, 1, 'VALID') + b2\n",
    "\n",
    "w3 = weight_variable([3,3,32,64])\n",
    "b3 = bias_variable([64])\n",
    "c3 = conv2d(c2, w3, 1, 'SAME') + b3\n",
    "\n",
    "#concat1 = conv2 + maxpool\n",
    "w4 = weight_variable([3,3,64,96])\n",
    "b4 = bias_variable([96])\n",
    "c4 = conv2d(c3, w4, 2, 'VALID') + b4\n",
    "max1 = max_pool(c3, 3, 2, 'VALID')\n",
    "concat1 = array_ops.concat([c4, max1], 3)\n",
    "\n",
    "#concat2 = 2次conv2 + 4次conv2\n",
    "\n",
    "#concat2_left\n",
    "w5 = weight_variable([1,1,160,64])\n",
    "b5 = bias_variable([64])\n",
    "c5 = conv2d(concat1, w5, 1, 'SAME') + b5\n",
    "\n",
    "w6 = weight_variable([3,3,64,96])\n",
    "b6 = bias_variable([96])\n",
    "c6 = conv2d(c5, w6, 1, 'VALID') + b6\n",
    "\n",
    "#concat2_right\n",
    "w7 = weight_variable([1,1,160,64])\n",
    "b7 = bias_variable([64])\n",
    "c7 = conv2d(concat1, w7, 1, 'SAME') + b7\n",
    "\n",
    "w8 = weight_variable([7,1,64,64])\n",
    "b8 = bias_variable([64])\n",
    "c8 = conv2d(c7, w8, 1, 'SAME') + b8\n",
    "\n",
    "w9 = weight_variable([1,7,64,64])\n",
    "b9 = bias_variable([64])\n",
    "c9 = conv2d(c8, w9, 1, 'SAME') + b9\n",
    "\n",
    "w10 = weight_variable([3,3,64,96])\n",
    "b10 = bias_variable([96])\n",
    "c10 = conv2d(c9, w10, 1, 'VALID') + b10\n",
    "\n",
    "concat2 = array_ops.concat([c6, c10], 3)\n",
    "\n",
    "#concat3 = conv2 + maxpool\n",
    "w11 = weight_variable([3,3,192,192])\n",
    "b11 = bias_variable([192])\n",
    "c11 = conv2d(concat2, w11, 2, 'VALID') + b11\n",
    "max2 = max_pool(concat2, 2, 2, 'VALID')\n",
    "concat3 = array_ops.concat([c11, max2], 3)  #output"
   ]
  },
  {
   "cell_type": "code",
   "execution_count": 35,
   "metadata": {},
   "outputs": [
    {
     "name": "stdout",
     "output_type": "stream",
     "text": [
      "c1.shape = (?, 149, 149, 32)\n",
      "c2.shape = (?, 147, 147, 32)\n",
      "c3.shape = (?, 147, 147, 64)\n",
      "concat1.shape = (?, 73, 73, 160)\n",
      "concat2.shape = (?, 71, 71, 192)\n",
      "concat3.shape = (?, 35, 35, 384)\n"
     ]
    }
   ],
   "source": [
    "sess = tf.Session()\n",
    "init = tf.global_variables_initializer()\n",
    "sess.run(init)\n",
    "print('c1.shape = ' + str(c1.shape))\n",
    "print('c2.shape = ' + str(c2.shape))\n",
    "print('c3.shape = ' + str(c3.shape))\n",
    "print('concat1.shape = ' + str(concat1.shape))\n",
    "print('concat2.shape = ' + str(concat2.shape))\n",
    "print('concat3.shape = ' + str(concat3.shape))"
   ]
  }
 ],
 "metadata": {
  "kernelspec": {
   "display_name": "Python 3",
   "language": "python",
   "name": "python3"
  },
  "language_info": {
   "codemirror_mode": {
    "name": "ipython",
    "version": 3
   },
   "file_extension": ".py",
   "mimetype": "text/x-python",
   "name": "python",
   "nbconvert_exporter": "python",
   "pygments_lexer": "ipython3",
   "version": "3.6.1"
  }
 },
 "nbformat": 4,
 "nbformat_minor": 2
}
